{
 "cells": [
  {
   "cell_type": "markdown",
   "id": "a8b88bbb",
   "metadata": {},
   "source": [
    "# Beautiful soup approch"
   ]
  },
  {
   "cell_type": "code",
   "execution_count": 2,
   "id": "5c5a1657",
   "metadata": {},
   "outputs": [
    {
     "name": "stdout",
     "output_type": "stream",
     "text": [
      "enter the item you want to search guitar\n"
     ]
    }
   ],
   "source": [
    "# importing required libraries\n",
    "import pandas as pd\n",
    "import warnings\n",
    "import time\n",
    "warnings.filterwarnings(\"ignore\")\n",
    "from selenium import webdriver\n",
    "from bs4 import BeautifulSoup\n",
    "from selenium.webdriver.common.keys import Keys\n",
    "pd.set_option(\"display.max_rows\",None)\n",
    "pd.set_option(\"display.max_columns\",None)\n",
    "\n",
    "# initating the chromedriver\n",
    "driver = webdriver.Chrome(\"D:\\Web Scrapper\\chromedriver.exe\")\n",
    "\n",
    "# initating the chrome web driver\n",
    "driver = webdriver.Chrome(\"D:\\Web Scrapper\\chromedriver.exe\")\n",
    "\n",
    "# getting to the url\n",
    "driver.get(\"https://www.amazon.in/\")\n",
    "time.sleep(5)\n",
    "\n",
    "text=driver.find_element_by_xpath(\"//*[@id='twotabsearchtextbox']\")\n",
    "# getting input from user\n",
    "x = input(\"enter the item you want to search \")\n",
    "text.send_keys(x)\n",
    "# clicking on search button\n",
    "search=driver.find_element_by_xpath(\"//*[@id='nav-search-submit-button']\")\n",
    "search.click()\n",
    "\n",
    "\n",
    "\n",
    "name=[]\n",
    "\n",
    "soup = BeautifulSoup(driver.page_source)\n",
    "k=soup.find_all('div',class_='a-section a-spacing-micro s-padding-left-small s-padding-right-small')\n",
    "\n",
    "for i in k:\n",
    "    \n",
    "\n",
    "    try:\n",
    "        name.append(i.find('h2',class_=\"a-size-mini a-spacing-none a-color-base s-line-clamp-4\").text)\n",
    "        \n",
    "    except (TypeError, AttributeError):\n",
    "        name.append(\"\")\n",
    "        \n"
   ]
  },
  {
   "cell_type": "code",
   "execution_count": 3,
   "id": "f9b49d14",
   "metadata": {},
   "outputs": [
    {
     "data": {
      "text/plain": [
       "['Kadence Frontier guitar with Online Guitar learning course, Wine Red Acoustic Guitar with Die Cast Keys, Set of Strings, Strap, Picks and Bag (Wine Red, Acoustic)  ',\n",
       " 'Kadence Frontier Jumbo Semi Acoustic Guitar With Die Cast Keys Super Combo (Bag, 1 pack Strings, Strap, Picks, Capo, Tuner (natural)  ',\n",
       " 'Photron Acoustic Guitar, 38 Inch Cutaway, PH38C/BK with Picks Only, Black (Without Bag, Strap and Extra Strings)  ',\n",
       " 'Blueberry 38C, 38\" Acoustic Guitar Kit with Bag, Strap, One Pack Strings And Picks (Black)  ',\n",
       " 'Juârez Acoustic Guitar, 38 Inch Cutaway, 038C with Bag, Strings, Pick and Strap, Black  ',\n",
       " 'Intern INT-38C Acoustic Guitar Kit, With Bag, Strings, Pick And Strap, Black  ',\n",
       " 'Juarez Acoustic Guitar, 38 Inch Curved Body Cutaway, 38CUR with Bag, Strings, Pick and Strap, Black  ',\n",
       " '',\n",
       " '',\n",
       " '',\n",
       " '',\n",
       " 'Medellin 38\" Acoustic Guitar Blue Burst Carbon Fiber body+(Free Online Learning Course) - Durable Matt finish with handrest, strings, strap, bag, 3 Picks, capo, stand.  ',\n",
       " 'Medellin 38\" Carbon Fiber Acoustic Guitar with free specailized learning course- MDCF38BK Durable Carbon Fiber Matt Sunburst finish Body for beginners with handrest, set of Strings, Strap, Bag, 3 Picks, Capo, Guitar Wall Hanging Stand and Free GUITAR LEARNING COURSE (Special Learning Combo with Guitar)  ',\n",
       " 'Intern 38C Cutaway Design Black Acoustic Guitar with Picks & Carry Bag  ',\n",
       " 'Photron Acoustic Guitar, 38 Inch Cutaway, PH38C/BK with Picks Only, Black (Without Bag, Strap and Extra Strings)  ',\n",
       " 'Hovner 215 Black F-Cut Rosewood Fretboard Acoustic Guitar With Bag,Strap,1 Set of Extra Strings and 2 Picks By K-Retail  ',\n",
       " 'Medellin 38\" Acoustic Guitar Carbon Fiber body+(Free Online Learning Course) - Durable Matt finish with handrest, strings, strap, bag, 3 Picks, capo, stand.  ',\n",
       " 'Yamaha FS100C Acoustic Guitar, Black  ',\n",
       " 'Intern INT-38C Acoustic Guitar Kit (Sunburst) with Carry bag, Picks, Strings set and Guitar Strap, Small  ',\n",
       " 'JUAREZ JRZ38C Right Handed Acoustic Guitar with Bag, Strings, Pick and Strap (Natural, 6 Strings)  ',\n",
       " 'Intern INT-38C-BK-G Cutaway Right Handed Acoustic Guitar Kit, With Bag, Strings, Pick And Strap (Black, 6 Strings)  ',\n",
       " 'Juarez JRZ-ST01, 6 Strings Electric Guitar, Right Handed with Bag/Case, 2 x Picks (3TS Sunburst)  ',\n",
       " 'Medellin 38\" Acoustic Guitar Black Carbon Fiber body+(Free Online Learning Course) - Durable Matt finish with handrest, strings, strap, bag, 3 Picks, capo, stand.  ',\n",
       " 'Kadence Frontier guitar with Online Guitar learning course, Wine Red Acoustic Guitar with Die Cast Keys, Set of Strings, Strap, Picks and Bag (Wine Red, Acoustic)  ',\n",
       " \"HOMME STORE 4 String Guitar Children's Musical Instrument Educational Toy Guitar Ukulele Instruments Beginner Musical Sound Toys Best Gift for Children  \",\n",
       " 'Right Search ® Musical Guitar Toy_g2  ',\n",
       " 'Medellin carbn fiber guitar 38inch (NATURAL)  ',\n",
       " 'Kajal Enterprise 4-String Acoustic Learning Guitar Toy Musical Instrument Educational Guitar Toy for Beginners Kids Child (Brown)  ',\n",
       " 'Vault EA40 41 inch Premium Solid Spruce-Top Cutaway Acoustic Guitar  ',\n",
       " 'Juarez Acoustic Guitar Kit, 38 Inch Cutaway, 38C with Bag, Strings, Pick and Strap, TBS Transparent Blue Sunburst  ',\n",
       " 'Juarez Acoustic Guitar Kit, 38 Inch Cutaway, 38C with Bag, Strings, Pick and Strap, 3TS Sunburst  ',\n",
       " 'Hovner 215 Royal Metallic Black F-Cut Rosewood Fretboard Acoustic Guitar With Bag,Strap,1 Set of Extra Strings and 2 Picks  ',\n",
       " 'Intern INT-38C-SB-G Cutaway Right Handed Acoustic Guitar Kit, With Bag, Strings, Pick And Strap (Sunburst, 6 Strings)  ',\n",
       " 'Juârez Acoustic Guitar, 38 Inch Cutaway, JRZ38CT, Hippie Funky Design, with Bag, Picks, Strap & Extra String set  ',\n",
       " 'Yamaha Classical Guitar C40//02  ',\n",
       " 'Juarez Acoustic Guitar, 38 Inch Cutaway with Pick Guard, 38CPG with Bag, Strings, Pick and Strap, Black  ',\n",
       " 'Fender CD60s Dreadnought Acoustic Guitar (Mahagony)  ',\n",
       " 'Kadence 39” Classical Guitar Nylon Strings Acoustic Guitar with Truss Rod for Beginner Professional With Bag (30\" 1/4 Semi Acoustic GLE03)  ',\n",
       " 'Kadence Guitar Acoustica Series A05, Electric Acoustic Guitar, Zebra Wood with Pickup, Inbuilt tuner and Bag (Zebra Wood, Electro Acoustic)  ',\n",
       " 'Blueberry 38C, 38\" Acoustic Guitar Kit with Bag, Strap, One Pack Strings And Picks (Black)  ',\n",
       " 'Saga SF-600GC Grand Concert Acoustic Guitar  ',\n",
       " 'Kadence Acoustica 34” Acoustic Guitar A03 with bag  ',\n",
       " 'JUAREZ Acoustic Guitar 3xE 1st String & 2 Pick Set JRGSE32  ',\n",
       " 'Yamaha FS100C Acoustic Guitar, Natural  ',\n",
       " 'Medellin 38\" Carbon Fiber Acoustic Guitar with free specailized learning course- MDCF38BK Durable Carbon Fiber Matt Pink finish Body for beginners with handrest, set of Strings, Strap, Bag, 3 Picks, Capo, Guitar Wall Hanging Stand and Free GUITAR LEARNING COURSE (Special Learning Combo with Guitar)  ',\n",
       " 'Revel 38 Inches Cutaway Design Acoustic Guitar with Carry bag and Plectrums. Great tone and Beginner/Learners standard size configuration for all age groups (Natural)  ',\n",
       " 'Saga SF-600C DREADNOUGHT Cutaway Acoustic Guitar  ',\n",
       " 'Saga SF-600C-SB DREADNOUGHT Cutaway Acoustic Guitar  ',\n",
       " 'TOXOT TOYS 38 IN Right Handed Acoustic Guitar With Carry Bag & Picks | Musical Instrument Learning Toy for Kids | Humidity Proof, Bend resistance, Durable Action, Natural Tone & Bright Resonance  ',\n",
       " 'JUAREZ Arpéggio 104.14 cm (41 Inch) Semi-Acoustic Guitar Kit, Thin Line Body, Spruce Top, with 4 Band EQ, Natural  ',\n",
       " 'Yamaha FSX80C Semi Acoustic Cutaway Guitar with Bag (Black)  ',\n",
       " 'Kadence Frontier Series, Semi Acoustic Guitar With Die Cast Keys (Bag,Strap,Strings And 3 Picks) (Natural)  ',\n",
       " 'Medellin 38\" Acoustic Guitar Brown Carbon Fiber Body with FREE Online LEARNING COURSE Durable Matt finish Body for beginners with handrest, set of Strings, Strap, Bag, 3 Picks, Capo, Guitar Wall Hanging Stand and Free GUITAR LEARNING COURSE (Special Learning Combo with Guitar)  ',\n",
       " 'Kadence Guitar Acoustica Series, Electric Acoustic Guitar, Ash Wood with Pickup and Inbuilt tuner Travel Guitar Small Size for Kids and Adult (A06-34\")  ',\n",
       " 'Pluto HW39-201P Electro Acoustic Guitar - Rosewood Fretboard  ',\n",
       " 'Kadence Guitar Frontier Series, Electric Acoustic Black Guitar With EQ, Die Cast Keys, Set of Strings, Strap, Picks and Bag (Black EQ, Electric Acoustic)  ',\n",
       " 'Saga SF-600GC-BK Grand Concert Acoustic Guitar (BLACK)  ',\n",
       " 'Juarez JRZ-ST01 6-String Electric Guitar, Right Handed, Full Black, with Case/Bag and Picks  ',\n",
       " 'Medellin MED-BLU-C Linden Wood Acoustic Guitar  ',\n",
       " 'Fender CD-60 SCE NAT\\xa0 Dreadnought Semi Acoustic Guitar (Natural)  ',\n",
       " 'DIKUJI ENTERPRISE Plastic Medium Acoustic Guitar Learning Toy for Kids (Brown)  ',\n",
       " 'Vault EA40 41 inch Premium Solid Spruce-Top Cutaway Acoustic Guitar  ',\n",
       " 'Kaps ST-10AC,6 Strings, Acoustic Guitar, Right Handed, Black With Cover/Bag +Alice Strings set+2 Picks + Strap/Belt  ',\n",
       " \"Givson Little Sreej, 6-Strings, Kid's Acoustic Guitar, Right-Handed, Green, With Guitar Cover/Bag  \"]"
      ]
     },
     "execution_count": 3,
     "metadata": {},
     "output_type": "execute_result"
    }
   ],
   "source": [
    "name"
   ]
  },
  {
   "cell_type": "markdown",
   "id": "72acfa86",
   "metadata": {},
   "source": [
    "# Selenium approch"
   ]
  },
  {
   "cell_type": "code",
   "execution_count": 4,
   "id": "736312ef",
   "metadata": {},
   "outputs": [
    {
     "name": "stdout",
     "output_type": "stream",
     "text": [
      "enter the item you want to search guitar\n"
     ]
    }
   ],
   "source": [
    "# importing required libraries\n",
    "import pandas as pd\n",
    "import warnings\n",
    "import time\n",
    "warnings.filterwarnings(\"ignore\")\n",
    "from selenium import webdriver\n",
    "from bs4 import BeautifulSoup\n",
    "from selenium.webdriver.common.keys import Keys\n",
    "pd.set_option(\"display.max_rows\",None)\n",
    "pd.set_option(\"display.max_columns\",None)\n",
    "\n",
    "# initating the chromedriver\n",
    "driver = webdriver.Chrome(\"D:\\Web Scrapper\\chromedriver.exe\")\n",
    "\n",
    "# initating the chrome web driver\n",
    "driver = webdriver.Chrome(\"D:\\Web Scrapper\\chromedriver.exe\")\n",
    "\n",
    "# getting to the url\n",
    "driver.get(\"https://www.amazon.in/\")\n",
    "time.sleep(5)\n",
    "\n",
    "text=driver.find_element_by_xpath(\"//*[@id='twotabsearchtextbox']\")\n",
    "# getting input from user\n",
    "x = input(\"enter the item you want to search \")\n",
    "text.send_keys(x)\n",
    "# clicking on search button\n",
    "search=driver.find_element_by_xpath(\"//*[@id='nav-search-submit-button']\")\n",
    "search.click()\n",
    "\n",
    "\n",
    "\n",
    "name=[]\n",
    "\n",
    "\n",
    "k=driver.find_elements_by_xpath(\"//div[@class='a-section a-spacing-micro s-padding-left-small s-padding-right-small']\")\n",
    "\n",
    "for i in k:\n",
    "    \n",
    "\n",
    "    try:\n",
    "        name.append(i.find_element_by_xpath(\"//h2[@class='a-size-mini a-spacing-none a-color-base s-line-clamp-4']\").text)\n",
    "        \n",
    "    except (TypeError, AttributeError):\n",
    "        name.append(\"\")\n",
    "    "
   ]
  },
  {
   "cell_type": "code",
   "execution_count": 5,
   "id": "6a80e4ae",
   "metadata": {},
   "outputs": [
    {
     "data": {
      "text/plain": [
       "[]"
      ]
     },
     "execution_count": 5,
     "metadata": {},
     "output_type": "execute_result"
    }
   ],
   "source": [
    "name"
   ]
  },
  {
   "cell_type": "code",
   "execution_count": null,
   "id": "8b7823f5",
   "metadata": {},
   "outputs": [],
   "source": []
  }
 ],
 "metadata": {
  "kernelspec": {
   "display_name": "Python 3",
   "language": "python",
   "name": "python3"
  },
  "language_info": {
   "codemirror_mode": {
    "name": "ipython",
    "version": 3
   },
   "file_extension": ".py",
   "mimetype": "text/x-python",
   "name": "python",
   "nbconvert_exporter": "python",
   "pygments_lexer": "ipython3",
   "version": "3.8.8"
  }
 },
 "nbformat": 4,
 "nbformat_minor": 5
}
