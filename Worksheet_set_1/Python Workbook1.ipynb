{
 "cells": [
  {
   "cell_type": "markdown",
   "id": "850c091d",
   "metadata": {},
   "source": [
    "# 11. Write a python program to find the factorial of a number."
   ]
  },
  {
   "cell_type": "code",
   "execution_count": 9,
   "id": "1e597f1e",
   "metadata": {},
   "outputs": [],
   "source": [
    "# Define the Factorial Function\n",
    "\n",
    "def factorial(n):\n",
    "    if n == 1:\n",
    "        return 1\n",
    "    \n",
    "    \n",
    "    \n",
    "    elif n>1:\n",
    "        return n*factorial(n-1)\n",
    "    \n",
    "    \n",
    "    \n",
    "    elif n==0:\n",
    "        print(1)\n",
    "    \n",
    "    \n",
    "    \n",
    "    else:\n",
    "        print(\"Please enter a Non-Negative Number\")\n",
    "    "
   ]
  },
  {
   "cell_type": "code",
   "execution_count": 13,
   "id": "742df651",
   "metadata": {},
   "outputs": [
    {
     "name": "stdout",
     "output_type": "stream",
     "text": [
      "Enter the Number to find its Factorial: 10\n",
      "3628800\n"
     ]
    }
   ],
   "source": [
    "# getting input from user\n",
    "try:\n",
    "    n = int(input(\"Enter the Number to find its Factorial: \"))\n",
    "    \n",
    "# calling the factorial funciton\n",
    "    print(factorial(n))\n",
    "    \n",
    "\n",
    "    \n",
    "    \n",
    "    \n",
    "except ValueError:\n",
    "    print(\"Please enter valid number\")\n",
    "    \n",
    "    \n",
    "\n",
    "\n"
   ]
  },
  {
   "cell_type": "markdown",
   "id": "a46b23f1",
   "metadata": {},
   "source": [
    "# 12. Write a python program to find whether a number is prime or composite."
   ]
  },
  {
   "cell_type": "code",
   "execution_count": 17,
   "id": "a24f1e14",
   "metadata": {},
   "outputs": [],
   "source": [
    "# defining a function \n",
    "def prime_comp(n):\n",
    "    \n",
    "    \n",
    "    if n>1:\n",
    "        \n",
    "        for i in range(2,n):\n",
    "            if n%i==0:\n",
    "                print(\"its composite\")\n",
    "                break\n",
    "            \n",
    "            \n",
    "        \n",
    "        \n",
    "        else:\n",
    "            \n",
    "            print(\"its prime\")\n",
    "            \n",
    "            \n",
    "            \n",
    "    elif n==0 or n ==1:\n",
    "        print(\"its neither prime nor composite\")\n",
    "        \n",
    "        \n",
    "    \n",
    "    \n",
    "\n",
    "    else:\n",
    "        print(\"enter positive number\")\n",
    "\n",
    "\n",
    "\n",
    "    \n",
    "        \n",
    "        "
   ]
  },
  {
   "cell_type": "code",
   "execution_count": 18,
   "id": "befd9967",
   "metadata": {},
   "outputs": [
    {
     "name": "stdout",
     "output_type": "stream",
     "text": [
      "enter the number: 2\n",
      "its prime\n"
     ]
    }
   ],
   "source": [
    "# getting user input\n",
    "try:\n",
    "    n = int(input(\"enter the number: \"))\n",
    "# calling the function    \n",
    "    prime_comp(n)\n",
    "    \n",
    "    \n",
    "    \n",
    "except ValueError:\n",
    "    print(\"enter valid number\")\n",
    "    \n",
    "    \n",
    "    "
   ]
  },
  {
   "cell_type": "markdown",
   "id": "90017963",
   "metadata": {},
   "source": [
    "# 13.Write a python program to check whether a given string is palindrome or not.     "
   ]
  },
  {
   "cell_type": "code",
   "execution_count": 19,
   "id": "6a5bdcde",
   "metadata": {},
   "outputs": [],
   "source": [
    "# Function Definition\n",
    "\n",
    "def palin(x):\n",
    "    \n",
    "    str = \"\"\n",
    "\n",
    "    for i in x:\n",
    "        str = i + str\n",
    "    \n",
    "    \n",
    "    if str == x:\n",
    "        print(\"its palindrome\")\n",
    "    \n",
    "    \n",
    "    else:\n",
    "        print(\"its not palindrome\")\n",
    "\n"
   ]
  },
  {
   "cell_type": "code",
   "execution_count": 30,
   "id": "59f9dbc8",
   "metadata": {},
   "outputs": [
    {
     "name": "stdout",
     "output_type": "stream",
     "text": [
      "enter the word: lol\n",
      "its palindrome\n"
     ]
    }
   ],
   "source": [
    "# getting input from user\n",
    "x = input(\"enter the word: \")\n",
    "# calling the function\n",
    "palin(x)"
   ]
  },
  {
   "cell_type": "markdown",
   "id": "daff755b",
   "metadata": {},
   "source": [
    "# 14. Write a Python program to get the third side of right-angled triangle from two given sides.\n"
   ]
  },
  {
   "cell_type": "code",
   "execution_count": 40,
   "id": "4fffeb9f",
   "metadata": {},
   "outputs": [],
   "source": [
    "# defining function\n",
    "def sqr(a,b):\n",
    "    c = ((a**2)+(b**2))**0.5\n",
    "    print(f'the value of third side is {round(c,3)}')"
   ]
  },
  {
   "cell_type": "code",
   "execution_count": 41,
   "id": "4ac94243",
   "metadata": {},
   "outputs": [
    {
     "name": "stdout",
     "output_type": "stream",
     "text": [
      "enter first side : 40\n",
      "enter second side : 40\n",
      "the value of third side is 56.569\n"
     ]
    }
   ],
   "source": [
    "# getting input from user\n",
    "\n",
    "try:\n",
    "    a = float(input(\"enter first side : \"))\n",
    "    b = float(input(\"enter second side : \"))\n",
    "    # calling the function\n",
    "    sqr(a,b)\n",
    "    \n",
    "    \n",
    "except ValueError:\n",
    "    print(\"please enter valid number\")\n",
    "\n",
    "\n"
   ]
  },
  {
   "cell_type": "markdown",
   "id": "c7ff3812",
   "metadata": {},
   "source": [
    "# 15. Write a python program to print the frequency of each of the characters present in a given string."
   ]
  },
  {
   "cell_type": "code",
   "execution_count": 8,
   "id": "63398453",
   "metadata": {},
   "outputs": [],
   "source": [
    "# defining a function\n",
    "\n",
    "def freq(x):\n",
    "    \n",
    "\n",
    "    \n",
    "    \n",
    "    \n",
    "    a = {}\n",
    "    \n",
    "    for i in x:\n",
    "        if i in a:\n",
    "            a[i] +=1\n",
    "                \n",
    "        else:\n",
    "            a[i] =1\n",
    "            \n",
    "            \n",
    "    print(f'the frequency of the character in given string are {a}') \n",
    " \n",
    "\n",
    "\n",
    "     \n",
    "          \n"
   ]
  },
  {
   "cell_type": "code",
   "execution_count": 11,
   "id": "289ecb41",
   "metadata": {},
   "outputs": [
    {
     "name": "stdout",
     "output_type": "stream",
     "text": [
      "enter the word : hello\n",
      "the frequency of the character in given string are {'h': 1, 'e': 1, 'l': 2, 'o': 1}\n"
     ]
    }
   ],
   "source": [
    "# getting user input\n",
    "\n",
    "x = input(\"enter the word : \")\n",
    "\n",
    "# calling the function\n",
    "\n",
    "freq(x)"
   ]
  },
  {
   "cell_type": "code",
   "execution_count": null,
   "id": "180a78ea",
   "metadata": {},
   "outputs": [],
   "source": [
    "    "
   ]
  },
  {
   "cell_type": "code",
   "execution_count": null,
   "id": "ad5cdefc",
   "metadata": {},
   "outputs": [],
   "source": []
  }
 ],
 "metadata": {
  "kernelspec": {
   "display_name": "Python 3",
   "language": "python",
   "name": "python3"
  },
  "language_info": {
   "codemirror_mode": {
    "name": "ipython",
    "version": 3
   },
   "file_extension": ".py",
   "mimetype": "text/x-python",
   "name": "python",
   "nbconvert_exporter": "python",
   "pygments_lexer": "ipython3",
   "version": "3.8.8"
  }
 },
 "nbformat": 4,
 "nbformat_minor": 5
}
